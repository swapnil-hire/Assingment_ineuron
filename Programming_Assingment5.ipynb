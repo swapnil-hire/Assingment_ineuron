{
 "cells": [
  {
   "cell_type": "markdown",
   "metadata": {},
   "source": [
    "# Programming_Assingment5"
   ]
  },
  {
   "cell_type": "markdown",
   "metadata": {},
   "source": [
    "### 1.\tWrite a Python Program to Find LCM?"
   ]
  },
  {
   "cell_type": "code",
   "execution_count": 1,
   "metadata": {},
   "outputs": [],
   "source": [
    "import pyinputplus as pyip\n",
    "def find_lcm():\n",
    "    a = pyip.inputInt(\"Enter a integer :\")\n",
    "    b = pyip.inputInt(\"Enter a integer :\")\n",
    "    if a>b:\n",
    "        max = a\n",
    "    else:\n",
    "        max = b\n",
    "    while(True):\n",
    "        if(max % a == 0 and max % b == 0):\n",
    "            lcm = max\n",
    "            break\n",
    "        max = max + 1\n",
    "    return lcm"
   ]
  },
  {
   "cell_type": "code",
   "execution_count": 2,
   "metadata": {},
   "outputs": [
    {
     "name": "stdout",
     "output_type": "stream",
     "text": [
      "Enter a integer :2\n",
      "Enter a integer :3\n"
     ]
    },
    {
     "data": {
      "text/plain": [
       "6"
      ]
     },
     "execution_count": 2,
     "metadata": {},
     "output_type": "execute_result"
    }
   ],
   "source": [
    "find_lcm()"
   ]
  },
  {
   "cell_type": "markdown",
   "metadata": {},
   "source": [
    "### 2.\tWrite a Python Program to Find HCF?"
   ]
  },
  {
   "cell_type": "code",
   "execution_count": 3,
   "metadata": {},
   "outputs": [],
   "source": [
    "def find_hcf():\n",
    "    a = pyip.inputInt(\"Enter a integer :\")\n",
    "    b = pyip.inputInt(\"Enter a integer :\")\n",
    "    i = 1\n",
    "    while(i<=a and i<=b):\n",
    "        if(a % i == 0 and b % i == 0):\n",
    "            hcf = i\n",
    "        i = i+1\n",
    "\n",
    "    return hcf"
   ]
  },
  {
   "cell_type": "code",
   "execution_count": 4,
   "metadata": {},
   "outputs": [
    {
     "name": "stdout",
     "output_type": "stream",
     "text": [
      "Enter a integer :2\n",
      "Enter a integer :36\n"
     ]
    },
    {
     "data": {
      "text/plain": [
       "2"
      ]
     },
     "execution_count": 4,
     "metadata": {},
     "output_type": "execute_result"
    }
   ],
   "source": [
    "find_hcf()"
   ]
  },
  {
   "cell_type": "markdown",
   "metadata": {},
   "source": [
    "### 3.\tWrite a Python Program to Convert Decimal to Binary, Octal and Hexadecimal?"
   ]
  },
  {
   "cell_type": "code",
   "execution_count": 5,
   "metadata": {},
   "outputs": [],
   "source": [
    "def convert_dec():\n",
    "    dec = pyip.inputNum(\"Enter a number:\")\n",
    "    binary = bin(dec)\n",
    "    octal = oct(dec)\n",
    "    hexa = hex(dec)\n",
    "    return (f\"the binary, octal, hexadecimal of {dec} is\", binary, octal, hexa)"
   ]
  },
  {
   "cell_type": "code",
   "execution_count": 6,
   "metadata": {},
   "outputs": [
    {
     "name": "stdout",
     "output_type": "stream",
     "text": [
      "Enter a number:5\n"
     ]
    },
    {
     "data": {
      "text/plain": [
       "('the binary, octal, hexadecimal of 5 is', '0b101', '0o5', '0x5')"
      ]
     },
     "execution_count": 6,
     "metadata": {},
     "output_type": "execute_result"
    }
   ],
   "source": [
    "convert_dec()"
   ]
  },
  {
   "cell_type": "markdown",
   "metadata": {},
   "source": [
    "### 4.\tWrite a Python Program To Find ASCII value of a character?"
   ]
  },
  {
   "cell_type": "code",
   "execution_count": 7,
   "metadata": {},
   "outputs": [],
   "source": [
    "def ascii_val():\n",
    "    char = input(\"enter a character\")\n",
    "    return F\"ascii value of {char} is\", ord(char)"
   ]
  },
  {
   "cell_type": "code",
   "execution_count": 8,
   "metadata": {},
   "outputs": [
    {
     "name": "stdout",
     "output_type": "stream",
     "text": [
      "enter a character5\n"
     ]
    },
    {
     "data": {
      "text/plain": [
       "('ascii value of 5 is', 53)"
      ]
     },
     "execution_count": 8,
     "metadata": {},
     "output_type": "execute_result"
    }
   ],
   "source": [
    "ascii_val()"
   ]
  },
  {
   "cell_type": "code",
   "execution_count": 9,
   "metadata": {},
   "outputs": [
    {
     "name": "stdout",
     "output_type": "stream",
     "text": [
      "enter a character5\n"
     ]
    },
    {
     "data": {
      "text/plain": [
       "('ascii value of 5 is', 53)"
      ]
     },
     "execution_count": 9,
     "metadata": {},
     "output_type": "execute_result"
    }
   ],
   "source": [
    "ascii_val()"
   ]
  },
  {
   "cell_type": "markdown",
   "metadata": {},
   "source": [
    "### 5.\tWrite a Python Program to Make a Simple Calculator with 4 basic mathematical operations?"
   ]
  },
  {
   "cell_type": "code",
   "execution_count": 14,
   "metadata": {},
   "outputs": [],
   "source": [
    "def calculator():\n",
    "    num1 = pyip.inputNum(\"enter num1 :\")\n",
    "    num2 = pyip.inputNum(\"enter num2 :\")\n",
    "    operation = input(\"select operation(add,sub,div,mul) :\")\n",
    "\n",
    "    if operation == 'add':\n",
    "        return f\"adding {num1} to {num2} is {num1+num2}\"\n",
    "    if operation == 'sub':\n",
    "        return f\"subraction of {num1} from {num2} is {num1-num2}\"\n",
    "    if operation == 'div':\n",
    "        return f\"dividing {num1} from {num2} is {num1/num2}\"\n",
    "    if operation == 'mul':\n",
    "        return f\"multiplying {num1} with {num2} is {num1+num2}\"\n",
    "    "
   ]
  },
  {
   "cell_type": "code",
   "execution_count": 15,
   "metadata": {},
   "outputs": [
    {
     "name": "stdout",
     "output_type": "stream",
     "text": [
      "enter num1 :23\n",
      "enter num2 :23\n",
      "select operation(add,sub,div,mul) :add\n"
     ]
    },
    {
     "data": {
      "text/plain": [
       "'adding 23 to 23 is 46'"
      ]
     },
     "execution_count": 15,
     "metadata": {},
     "output_type": "execute_result"
    }
   ],
   "source": [
    "calculator()"
   ]
  },
  {
   "cell_type": "code",
   "execution_count": null,
   "metadata": {},
   "outputs": [],
   "source": []
  }
 ],
 "metadata": {
  "kernelspec": {
   "display_name": "Python 3",
   "language": "python",
   "name": "python3"
  },
  "language_info": {
   "codemirror_mode": {
    "name": "ipython",
    "version": 3
   },
   "file_extension": ".py",
   "mimetype": "text/x-python",
   "name": "python",
   "nbconvert_exporter": "python",
   "pygments_lexer": "ipython3",
   "version": "3.7.6"
  }
 },
 "nbformat": 4,
 "nbformat_minor": 4
}
