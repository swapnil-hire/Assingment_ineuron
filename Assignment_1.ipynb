{
 "cells": [
  {
   "cell_type": "markdown",
   "metadata": {},
   "source": [
    "# Assignment No 1"
   ]
  },
  {
   "cell_type": "markdown",
   "metadata": {},
   "source": [
    "Q1 . In the below elements which of them are values or an expression? eg:- values can be integer or string and expressions will be mathematical operators. Ans :- 1) * = operator 2) 'hello'= value 3) -87.8 = value 4) - = operator 5) / = operator 6) + = operator 7) 6 = value\n",
    "\n",
    "Q2. What is the difference between string and variable? Ans - String :- String is a datatype . Variable :- Variables are containers for storing data values. For example x= \"Bhushan\" , Here x is a variable and \"Bhushan\" is a string.\n",
    "\n",
    "Q3. Describe three different data types. Ans :- Text Type = str Numeric Types = int, float, complex Boolean Type = bool\n",
    "\n",
    "Q4. What is an expression made up of? What do all expressions do? Ans. An expression is a combination of operators, variables, values. Expressions need to be evaluated .All expressions evaluate to a single value\n",
    "\n",
    "Q5. This assignment statements, like spam = 10. What is the difference between an expression and a statement? Ans. A statement does something. Statements represent an action or command e.g print statements, assignment statements. An expression is a combination of operators, variables, values. Expressions need to be evaluated. An expression is something that can be reduced to a value.\n",
    "\n",
    "Q6. After running the following code, what does the variable bacon contain? bacon = 22 bacon + 1"
   ]
  },
  {
   "cell_type": "code",
   "execution_count": 1,
   "metadata": {},
   "outputs": [
    {
     "name": "stdout",
     "output_type": "stream",
     "text": [
      "22\n"
     ]
    }
   ],
   "source": [
    "bacon=22\n",
    "bacon+1\n",
    "print(bacon)\n",
    "##bacon will contain 22"
   ]
  },
  {
   "cell_type": "markdown",
   "metadata": {},
   "source": [
    "Q7. What should the values of the following two terms be? 'spam' + 'spamspam' 'spam' * 3"
   ]
  },
  {
   "cell_type": "code",
   "execution_count": 2,
   "metadata": {},
   "outputs": [
    {
     "name": "stdout",
     "output_type": "stream",
     "text": [
      "spamspamspam\n",
      "spamspamspam\n"
     ]
    }
   ],
   "source": [
    "print('spam'+ 'spamspam')\n",
    "print('spam' *3)"
   ]
  },
  {
   "cell_type": "markdown",
   "metadata": {},
   "source": [
    "Q8. Why is eggs a valid variable name while 100 is invalid? Ans. According to rules in python: A variable name cannot start with a number, therefore 100 cannot be the variable name\n",
    "\n",
    "Q9. What three functions can be used to get the integer, floating-point number, or string version of a value? Ans :- The int(), float(), and str() functions will evaluate to the integer, floating-point number, and string versions of the value passed to them. I can explain this by using a code"
   ]
  },
  {
   "cell_type": "code",
   "execution_count": 3,
   "metadata": {},
   "outputs": [
    {
     "name": "stdout",
     "output_type": "stream",
     "text": [
      "<class 'int'>\n",
      "<class 'float'>\n",
      "<class 'str'>\n"
     ]
    }
   ],
   "source": [
    "# Converting to integer\n",
    "int_value = int(10)\n",
    "print(type(int_value))\n",
    "#Converting to float\n",
    "float_value = float(10)\n",
    "print(type(float_value ))\n",
    "#Converting to String\n",
    "string_value = str(10)\n",
    "print(type(string_value))"
   ]
  },
  {
   "cell_type": "markdown",
   "metadata": {},
   "source": [
    "Q10. Why does this expression cause an error? How can you fix it? Ans :- The expression causes an error because 99 is an integer, and only strings can be concatenated to other strings with the + operator. The correct way is 'I have eaten ' + str(99) + ' burritos.'."
   ]
  }
 ],
 "metadata": {
  "kernelspec": {
   "display_name": "Python 3",
   "language": "python",
   "name": "python3"
  },
  "language_info": {
   "codemirror_mode": {
    "name": "ipython",
    "version": 3
   },
   "file_extension": ".py",
   "mimetype": "text/x-python",
   "name": "python",
   "nbconvert_exporter": "python",
   "pygments_lexer": "ipython3",
   "version": "3.7.6"
  }
 },
 "nbformat": 4,
 "nbformat_minor": 4
}
