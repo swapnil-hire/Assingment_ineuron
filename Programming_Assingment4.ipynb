{
 "cells": [
  {
   "cell_type": "markdown",
   "metadata": {},
   "source": [
    "# Programming_Assingment4"
   ]
  },
  {
   "cell_type": "markdown",
   "metadata": {},
   "source": [
    "1.Write a Python Program to Find the Factorial of a Number?"
   ]
  },
  {
   "cell_type": "code",
   "execution_count": 4,
   "metadata": {},
   "outputs": [
    {
     "name": "stdout",
     "output_type": "stream",
     "text": [
      "Enter an Integer 6\n",
      "720\n"
     ]
    }
   ],
   "source": [
    "a= int(input('Enter an Integer '));\n",
    "fact=1;\n",
    "for i in range(2,a+1):\n",
    "    fact*=i;\n",
    "print(fact);"
   ]
  },
  {
   "cell_type": "markdown",
   "metadata": {},
   "source": [
    "2.Write a Python Program to Display the multiplication Table?"
   ]
  },
  {
   "cell_type": "code",
   "execution_count": 5,
   "metadata": {},
   "outputs": [
    {
     "name": "stdout",
     "output_type": "stream",
     "text": [
      "Enter the number 4\n",
      "4 * 1 = 4\n",
      "4 * 2 = 8\n",
      "4 * 3 = 12\n",
      "4 * 4 = 16\n",
      "4 * 5 = 20\n",
      "4 * 6 = 24\n",
      "4 * 7 = 28\n",
      "4 * 8 = 32\n",
      "4 * 9 = 36\n",
      "4 * 10 = 40\n"
     ]
    }
   ],
   "source": [
    "a= int(input('Enter the number '));\n",
    "for i in range(1,11):\n",
    "    print(a,'*',i,\"=\",a*i)"
   ]
  },
  {
   "cell_type": "markdown",
   "metadata": {},
   "source": [
    "3.Write a Python Program to Print the Fibonacci sequence?"
   ]
  },
  {
   "cell_type": "code",
   "execution_count": 6,
   "metadata": {},
   "outputs": [
    {
     "name": "stdout",
     "output_type": "stream",
     "text": [
      "Number of elements you want to print 3\n",
      "0\n",
      "1\n",
      "1\n"
     ]
    }
   ],
   "source": [
    "num= int(input('Number of elements you want to print '));\n",
    "a=0;\n",
    "b=1;\n",
    "if num <=2:\n",
    "    for i in range(num):\n",
    "        print(i);\n",
    "else:\n",
    "    count=0\n",
    "    while count<num:\n",
    "        print(a);\n",
    "        a,b=b,a+b;\n",
    "        count+=1;"
   ]
  },
  {
   "cell_type": "markdown",
   "metadata": {},
   "source": [
    "4.Write a Python Program to Check Armstrong Number?"
   ]
  },
  {
   "cell_type": "code",
   "execution_count": 14,
   "metadata": {},
   "outputs": [
    {
     "name": "stdout",
     "output_type": "stream",
     "text": [
      "Enter a number 150\n",
      "Not Amstrong\n"
     ]
    }
   ],
   "source": [
    "num= input('Enter a number ');\n",
    "temp = num;\n",
    "sum=0;\n",
    "while temp!='':\n",
    "    k=temp[-1];\n",
    "    sum+=int(k)**3;\n",
    "    temp=temp[:-1];\n",
    "if sum==int(num):\n",
    "    print('Amstrong');\n",
    "else:\n",
    "    print(\"Not Amstrong\")"
   ]
  },
  {
   "cell_type": "markdown",
   "metadata": {},
   "source": [
    "5.Write a Python Program to Find Armstrong Number in an Interval?"
   ]
  },
  {
   "cell_type": "code",
   "execution_count": 13,
   "metadata": {},
   "outputs": [
    {
     "name": "stdout",
     "output_type": "stream",
     "text": [
      "Enter a number 500\n",
      "Amstrong Number 1\n",
      "Amstrong Number 153\n",
      "Amstrong Number 370\n",
      "Amstrong Number 371\n",
      "Amstrong Number 407\n"
     ]
    }
   ],
   "source": [
    "num= int(input('Enter a number '));\n",
    "for i in range (1,num+1):\n",
    "    temp = str(i);\n",
    "    sum=0;\n",
    "    while temp!='':\n",
    "        k=temp[-1];\n",
    "        sum+=int(k)**3;\n",
    "        temp=temp[:-1];\n",
    "    if sum==int(i):\n",
    "        print('Amstrong Number', i);"
   ]
  },
  {
   "cell_type": "markdown",
   "metadata": {},
   "source": [
    "6.Write a Python Program to Find the Sum of Natural Numbers?"
   ]
  },
  {
   "cell_type": "code",
   "execution_count": 15,
   "metadata": {},
   "outputs": [
    {
     "name": "stdout",
     "output_type": "stream",
     "text": [
      "Enter a number 20\n",
      "Sum of n natural no. 210\n"
     ]
    }
   ],
   "source": [
    "num= int(input('Enter a number '));\n",
    "sum=0;\n",
    "for i in range(1,num+1):\n",
    "    sum+=i;\n",
    "print(\"Sum of n natural no.\",sum)"
   ]
  },
  {
   "cell_type": "code",
   "execution_count": null,
   "metadata": {},
   "outputs": [],
   "source": []
  },
  {
   "cell_type": "code",
   "execution_count": null,
   "metadata": {},
   "outputs": [],
   "source": []
  }
 ],
 "metadata": {
  "kernelspec": {
   "display_name": "Python 3",
   "language": "python",
   "name": "python3"
  },
  "language_info": {
   "codemirror_mode": {
    "name": "ipython",
    "version": 3
   },
   "file_extension": ".py",
   "mimetype": "text/x-python",
   "name": "python",
   "nbconvert_exporter": "python",
   "pygments_lexer": "ipython3",
   "version": "3.7.6"
  }
 },
 "nbformat": 4,
 "nbformat_minor": 4
}
